{
 "cells": [
  {
   "cell_type": "code",
   "execution_count": null,
   "metadata": {},
   "outputs": [],
   "source": [
    "print(\"helloworld\")\n",
    "print(\"hello\", \"world\",\"123\",\"!\")\n",
    "print(\"hello\", \"world\",\"123\",\"!\",sep=\"-\")\n",
    "print(\"hello\", \"world\",\"123\",\"!\",sep='\\n')\n"
   ]
  },
  {
   "cell_type": "code",
   "execution_count": 2,
   "metadata": {},
   "outputs": [
    {
     "name": "stdout",
     "output_type": "stream",
     "text": [
      "English: Hello, World!\n",
      "Spanish: ¡Hola, Mundo!\n",
      "French: Bonjour, le Monde!\n",
      "German: Hallo, Welt!\n",
      "Italian: Ciao, Mondo!\n",
      "Portuguese: Olá, Mundo!\n",
      "Russian: Привет, мир! (Privet, mir!)\n",
      "Chinese (Simplified): 你好，世界！(Nǐ hǎo, shìjiè!)\n",
      "Japanese: こんにちは、世界！(Konnichiwa, sekai!)\n",
      "Korean: 안녕하세요, 세계! (Annyeonghaseyo, segye!)\n",
      "Arabic: مرحبا، العالم! (Marhaban, al-'alam!)\n",
      "Hindi: नमस्ते, दुनिया! (Namaste, duniya!)\n",
      "Thai: สวัสดี, โลก! (Sawasdee, lok!)\n",
      "Swedish: Hej, Världen!\n",
      "Dutch: Hallo, Wereld!\n",
      "Greek: Γειά σου, Κόσμε! (Geia sou, Kosme!)\n",
      "Hebrew: שלום, עולם! (Shalom, Olam!)\n",
      "Turkish: Merhaba, Dünya!\n",
      "Vietnamese: Xin chào, Thế giới!\n",
      "Polish: Witaj, Świecie!\n",
      "Romanian: Salut, Lume!\n",
      "Czech: Ahoj, Světe!\n",
      "Danish: Hej, Verden!\n",
      "Hungarian: Helló, Világ!\n",
      "Finnish: Hei, Maailma!\n",
      "Norwegian: Hei, Verden!\n",
      "Indonesian: Halo, Dunia!\n",
      "Malay: Hai, Dunia!\n",
      "Bengali: হ্যালো, বিশ্ব! (Hyālō, biśba!)\n",
      "Tagalog: Kumusta, Mundo!\n"
     ]
    }
   ],
   "source": [
    "def hello_world():\n",
    "    translations = [\n",
    "        \"English: Hello, World!\",\n",
    "        \"Spanish: ¡Hola, Mundo!\",\n",
    "        \"French: Bonjour, le Monde!\",\n",
    "        \"German: Hallo, Welt!\",\n",
    "        \"Italian: Ciao, Mondo!\",\n",
    "        \"Portuguese: Olá, Mundo!\",\n",
    "        \"Russian: Привет, мир! (Privet, mir!)\",\n",
    "        \"Chinese (Simplified): 你好，世界！(Nǐ hǎo, shìjiè!)\",\n",
    "        \"Japanese: こんにちは、世界！(Konnichiwa, sekai!)\",\n",
    "        \"Korean: 안녕하세요, 세계! (Annyeonghaseyo, segye!)\",\n",
    "        \"Arabic: مرحبا، العالم! (Marhaban, al-'alam!)\",\n",
    "        \"Hindi: नमस्ते, दुनिया! (Namaste, duniya!)\",\n",
    "        \"Thai: สวัสดี, โลก! (Sawasdee, lok!)\",\n",
    "        \"Swedish: Hej, Världen!\",\n",
    "        \"Dutch: Hallo, Wereld!\",\n",
    "        \"Greek: Γειά σου, Κόσμε! (Geia sou, Kosme!)\",\n",
    "        \"Hebrew: שלום, עולם! (Shalom, Olam!)\",\n",
    "        \"Turkish: Merhaba, Dünya!\",\n",
    "        \"Vietnamese: Xin chào, Thế giới!\",\n",
    "        \"Polish: Witaj, Świecie!\",\n",
    "        \"Romanian: Salut, Lume!\",\n",
    "        \"Czech: Ahoj, Světe!\",\n",
    "        \"Danish: Hej, Verden!\",\n",
    "        \"Hungarian: Helló, Világ!\",\n",
    "        \"Finnish: Hei, Maailma!\",\n",
    "        \"Norwegian: Hei, Verden!\",\n",
    "        \"Indonesian: Halo, Dunia!\",\n",
    "        \"Malay: Hai, Dunia!\",\n",
    "        \"Bengali: হ্যালো, বিশ্ব! (Hyālō, biśba!)\",\n",
    "        \"Tagalog: Kumusta, Mundo!\"\n",
    "    ]\n",
    "    \n",
    "    for translation in translations:\n",
    "        print(translation)\n",
    "\n",
    "print_hello_world()\n"
   ]
  }
 ],
 "metadata": {
  "kernelspec": {
   "display_name": "Hs_python_1",
   "language": "python",
   "name": "python3"
  },
  "language_info": {
   "codemirror_mode": {
    "name": "ipython",
    "version": 3
   },
   "file_extension": ".py",
   "mimetype": "text/x-python",
   "name": "python",
   "nbconvert_exporter": "python",
   "pygments_lexer": "ipython3",
   "version": "3.11.7"
  }
 },
 "nbformat": 4,
 "nbformat_minor": 2
}
