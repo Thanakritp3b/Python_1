{
 "cells": [
  {
   "cell_type": "code",
   "execution_count": null,
   "metadata": {},
   "outputs": [],
   "source": [
    "print(\"helloworld\")\n",
    "print(\"hello\", \"world\",\"123\",\"!\")\n",
    "print(\"hello\", \"world\",\"123\",\"!\",sep=\"-\")\n",
    "print(\"hello\", \"world\",\"123\",\"!\",sep='\\n')\n"
   ]
  },
  {
   "cell_type": "code",
   "execution_count": null,
   "metadata": {},
   "outputs": [],
   "source": []
  }
 ],
 "metadata": {
  "language_info": {
   "name": "python"
  }
 },
 "nbformat": 4,
 "nbformat_minor": 2
}
