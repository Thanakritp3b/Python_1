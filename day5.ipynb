{
 "cells": [
  {
   "cell_type": "code",
   "execution_count": 12,
   "metadata": {},
   "outputs": [
    {
     "name": "stdout",
     "output_type": "stream",
     "text": [
      "7\n"
     ]
    }
   ],
   "source": [
    "if 1!=1 :\n",
    "    if(3==1) :\n",
    "        if(7==7) :\n",
    "            print(2)\n",
    "    print(5)\n",
    "elif (3==3) :\n",
    "    print(7)\n",
    "else :\n",
    "    print(9)"
   ]
  }
 ],
 "metadata": {
  "kernelspec": {
   "display_name": "Hs_python_1",
   "language": "python",
   "name": "python3"
  },
  "language_info": {
   "codemirror_mode": {
    "name": "ipython",
    "version": 3
   },
   "file_extension": ".py",
   "mimetype": "text/x-python",
   "name": "python",
   "nbconvert_exporter": "python",
   "pygments_lexer": "ipython3",
   "version": "3.11.7"
  }
 },
 "nbformat": 4,
 "nbformat_minor": 2
}
